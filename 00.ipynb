{
 "cells": [
  {
   "cell_type": "code",
   "execution_count": null,
   "id": "e1b3a344",
   "metadata": {},
   "outputs": [],
   "source": [
    "\n"
   ]
  },
  {
   "cell_type": "code",
   "execution_count": null,
   "id": "840bf898",
   "metadata": {},
   "outputs": [],
   "source": []
  },
  {
   "cell_type": "code",
   "execution_count": 1,
   "id": "0ae33643",
   "metadata": {},
   "outputs": [
    {
     "data": {
      "text/plain": [
       "-1"
      ]
     },
     "execution_count": 1,
     "metadata": {},
     "output_type": "execute_result"
    }
   ],
   "source": [
    "import cv2 as c \n",
    "import numpy as np\n",
    "from PIL import Image\n",
    "array=np.zeros([100,200,3],dtype=np.uint8)\n",
    "array[:,:100]=[255,130,0]\n",
    "array[:,100:]=[0,0,255]\n",
    "img=Image.fromarray(array)\n",
    "img.save('flower1.png')\n",
    "img.show()\n",
    "c.waitKey(0)\n"
   ]
  },
  {
   "cell_type": "code",
   "execution_count": null,
   "id": "6d1d7775",
   "metadata": {},
   "outputs": [],
   "source": []
  },
  {
   "cell_type": "code",
   "execution_count": null,
   "id": "eab118e2",
   "metadata": {},
   "outputs": [],
   "source": []
  },
  {
   "cell_type": "code",
   "execution_count": null,
   "id": "27dc93d5",
   "metadata": {},
   "outputs": [],
   "source": [
    "import cv2 \n",
    "img=cv2.imread('D:\\\\rabbit.jpg')\n",
    "gray=cv2.cvtColor(img,cv2.COLOR_BGR2GRAY)\n",
    "hsv=cv2.cvtColor(img,cv2.COLOR_BGR2HSV)\n",
    "lab=cv2.cvtColor(img,cv2.COLOR_BGR2LAB)\n",
    "hls=cv2.cvtColor(img,cv2.COLOR_BGR2HLS)\n",
    "yuv=cv2.cvtColor(img,cv2.COLOR_BGR2YUV)\n",
    "cv2.imshow(\"GRAY image\",gray)\n",
    "cv2.imshow(\"HSV image\",hsv)\n",
    "cv2.imshow(\"LAB image\",lab)\n",
    "cv2.imshow(\"HLS image\",hls)\n",
    "cv2.imshow(\"YUV image\",yuv)\n",
    "cv2.waitKey(0)\n",
    "cv2.destroyAllWindows()"
   ]
  },
  {
   "cell_type": "code",
   "execution_count": null,
   "id": "46245d32",
   "metadata": {},
   "outputs": [],
   "source": []
  }
 ],
 "metadata": {
  "kernelspec": {
   "display_name": "Python 3 (ipykernel)",
   "language": "python",
   "name": "python3"
  },
  "language_info": {
   "codemirror_mode": {
    "name": "ipython",
    "version": 3
   },
   "file_extension": ".py",
   "mimetype": "text/x-python",
   "name": "python",
   "nbconvert_exporter": "python",
   "pygments_lexer": "ipython3",
   "version": "3.9.12"
  }
 },
 "nbformat": 4,
 "nbformat_minor": 5
}
